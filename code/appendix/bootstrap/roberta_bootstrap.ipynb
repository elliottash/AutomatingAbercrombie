{
  "nbformat": 4,
  "nbformat_minor": 0,
  "metadata": {
    "colab": {
      "provenance": [],
      "machine_shape": "hm",
      "gpuType": "V100"
    },
    "kernelspec": {
      "name": "python3",
      "display_name": "Python 3"
    },
    "language_info": {
      "name": "python"
    },
    "accelerator": "GPU"
  },
  "cells": [
    {
      "cell_type": "code",
      "execution_count": null,
      "metadata": {
        "colab": {
          "base_uri": "https://localhost:8080/"
        },
        "id": "qcjoJseX4Ntk",
        "outputId": "bd7d977e-dc9b-4f85-d711-7cd68d6b97df"
      },
      "outputs": [
        {
          "output_type": "stream",
          "name": "stdout",
          "text": [
            "Collecting transformers[torch]==4.19.2\n",
            "  Downloading transformers-4.19.2-py3-none-any.whl (4.2 MB)\n",
            "\u001b[2K     \u001b[90m━━━━━━━━━━━━━━━━━━━━━━━━━━━━━━━━━━━━━━━━\u001b[0m \u001b[32m4.2/4.2 MB\u001b[0m \u001b[31m17.7 MB/s\u001b[0m eta \u001b[36m0:00:00\u001b[0m\n",
            "\u001b[?25hRequirement already satisfied: filelock in /usr/local/lib/python3.10/dist-packages (from transformers[torch]==4.19.2) (3.13.1)\n",
            "Requirement already satisfied: huggingface-hub<1.0,>=0.1.0 in /usr/local/lib/python3.10/dist-packages (from transformers[torch]==4.19.2) (0.20.3)\n",
            "Requirement already satisfied: numpy>=1.17 in /usr/local/lib/python3.10/dist-packages (from transformers[torch]==4.19.2) (1.23.5)\n",
            "Requirement already satisfied: packaging>=20.0 in /usr/local/lib/python3.10/dist-packages (from transformers[torch]==4.19.2) (23.2)\n",
            "Requirement already satisfied: pyyaml>=5.1 in /usr/local/lib/python3.10/dist-packages (from transformers[torch]==4.19.2) (6.0.1)\n",
            "Requirement already satisfied: regex!=2019.12.17 in /usr/local/lib/python3.10/dist-packages (from transformers[torch]==4.19.2) (2023.6.3)\n",
            "Requirement already satisfied: requests in /usr/local/lib/python3.10/dist-packages (from transformers[torch]==4.19.2) (2.31.0)\n",
            "Collecting tokenizers!=0.11.3,<0.13,>=0.11.1 (from transformers[torch]==4.19.2)\n",
            "  Downloading tokenizers-0.12.1-cp310-cp310-manylinux_2_12_x86_64.manylinux2010_x86_64.whl (6.6 MB)\n",
            "\u001b[2K     \u001b[90m━━━━━━━━━━━━━━━━━━━━━━━━━━━━━━━━━━━━━━━━\u001b[0m \u001b[32m6.6/6.6 MB\u001b[0m \u001b[31m41.1 MB/s\u001b[0m eta \u001b[36m0:00:00\u001b[0m\n",
            "\u001b[?25hRequirement already satisfied: tqdm>=4.27 in /usr/local/lib/python3.10/dist-packages (from transformers[torch]==4.19.2) (4.66.1)\n",
            "Requirement already satisfied: torch>=1.0 in /usr/local/lib/python3.10/dist-packages (from transformers[torch]==4.19.2) (2.1.0+cu121)\n",
            "Requirement already satisfied: fsspec>=2023.5.0 in /usr/local/lib/python3.10/dist-packages (from huggingface-hub<1.0,>=0.1.0->transformers[torch]==4.19.2) (2023.6.0)\n",
            "Requirement already satisfied: typing-extensions>=3.7.4.3 in /usr/local/lib/python3.10/dist-packages (from huggingface-hub<1.0,>=0.1.0->transformers[torch]==4.19.2) (4.5.0)\n",
            "Requirement already satisfied: sympy in /usr/local/lib/python3.10/dist-packages (from torch>=1.0->transformers[torch]==4.19.2) (1.12)\n",
            "Requirement already satisfied: networkx in /usr/local/lib/python3.10/dist-packages (from torch>=1.0->transformers[torch]==4.19.2) (3.2.1)\n",
            "Requirement already satisfied: jinja2 in /usr/local/lib/python3.10/dist-packages (from torch>=1.0->transformers[torch]==4.19.2) (3.1.3)\n",
            "Requirement already satisfied: triton==2.1.0 in /usr/local/lib/python3.10/dist-packages (from torch>=1.0->transformers[torch]==4.19.2) (2.1.0)\n",
            "Requirement already satisfied: charset-normalizer<4,>=2 in /usr/local/lib/python3.10/dist-packages (from requests->transformers[torch]==4.19.2) (3.3.2)\n",
            "Requirement already satisfied: idna<4,>=2.5 in /usr/local/lib/python3.10/dist-packages (from requests->transformers[torch]==4.19.2) (3.6)\n",
            "Requirement already satisfied: urllib3<3,>=1.21.1 in /usr/local/lib/python3.10/dist-packages (from requests->transformers[torch]==4.19.2) (2.0.7)\n",
            "Requirement already satisfied: certifi>=2017.4.17 in /usr/local/lib/python3.10/dist-packages (from requests->transformers[torch]==4.19.2) (2023.11.17)\n",
            "Requirement already satisfied: MarkupSafe>=2.0 in /usr/local/lib/python3.10/dist-packages (from jinja2->torch>=1.0->transformers[torch]==4.19.2) (2.1.4)\n",
            "Requirement already satisfied: mpmath>=0.19 in /usr/local/lib/python3.10/dist-packages (from sympy->torch>=1.0->transformers[torch]==4.19.2) (1.3.0)\n",
            "Installing collected packages: tokenizers, transformers\n",
            "  Attempting uninstall: tokenizers\n",
            "    Found existing installation: tokenizers 0.15.1\n",
            "    Uninstalling tokenizers-0.15.1:\n",
            "      Successfully uninstalled tokenizers-0.15.1\n",
            "  Attempting uninstall: transformers\n",
            "    Found existing installation: transformers 4.35.2\n",
            "    Uninstalling transformers-4.35.2:\n",
            "      Successfully uninstalled transformers-4.35.2\n",
            "Successfully installed tokenizers-0.12.1 transformers-4.19.2\n"
          ]
        }
      ],
      "source": [
        "!pip install transformers[torch]==4.19.2"
      ]
    },
    {
      "cell_type": "code",
      "source": [
        "import pandas as pd\n",
        "import numpy as np\n",
        "import time\n",
        "from sklearn import metrics\n",
        "from sklearn.metrics import classification_report, roc_auc_score, roc_curve, confusion_matrix, precision_score\n",
        "from torch.utils.data import TensorDataset, DataLoader, RandomSampler, SequentialSampler\n",
        "from transformers import AdamW\n",
        "from tqdm import tqdm, trange\n",
        "import torch\n",
        "import torch.nn as nn\n",
        "from transformers import RobertaTokenizerFast, RobertaForSequenceClassification\n",
        "from time import time\n",
        "from sklearn import metrics\n",
        "import matplotlib.pyplot as plt\n",
        "import matplotlib.lines as mlines\n",
        "import matplotlib.transforms as mtransforms\n",
        "from sklearn.calibration import calibration_curve, CalibratedClassifierCV\n",
        "import torch.nn as nn\n",
        "import torch.optim as optim\n",
        "import seaborn as sns\n",
        "from time import time, gmtime, strftime\n",
        "import pickle"
      ],
      "metadata": {
        "id": "8IqgvdZf4hqo"
      },
      "execution_count": null,
      "outputs": []
    },
    {
      "cell_type": "code",
      "source": [
        "device = torch.device('cuda' if torch.cuda.is_available() else 'cpu')\n",
        "print(\"Device available: \",device)\n",
        "seed = 42\n",
        "np.random.seed(seed)"
      ],
      "metadata": {
        "colab": {
          "base_uri": "https://localhost:8080/"
        },
        "id": "Jo9_t6BS43ct",
        "outputId": "2782e5c6-bc49-4f38-f96d-30ec1b9dce20"
      },
      "execution_count": null,
      "outputs": [
        {
          "output_type": "stream",
          "name": "stdout",
          "text": [
            "Device available:  cuda\n"
          ]
        }
      ]
    },
    {
      "cell_type": "code",
      "source": [
        "# Trained Model\n",
        "model_path = '/content/drive/MyDrive/NLP_LSS/distinctiveness_indicator/roberta-base/unprocessed/roberta_v1_unprocessed.pth'\n",
        "# Input Data\n",
        "data_path = '/content/drive/MyDrive/NLP_LSS/distinctiveness_indicator/roberta-base/unprocessed/data/df_roberta_input_unprocessed.pkl'\n",
        "# DistilBERT Tokenizer\n",
        "tokenizer = RobertaTokenizerFast.from_pretrained('/content/drive/MyDrive/NLP_LSS/distinctiveness_indicator/roberta-base/unprocessed/offline-save/roberta_ftoken_offline')\n",
        "# Temperature for final model\n",
        "TEMP = 0.82\n",
        "\n",
        "## Output\n",
        "curr_time = strftime(\"%Y-%m-%d %H:%M:%S\", gmtime())\n",
        "\n",
        "acc_list_path = '/content/drive/MyDrive/NLP_LSS/distinctiveness_indicator/roberta-base/unprocessed/bootstrap/accuracy_list_' + curr_time + '.pickle'\n",
        "auc_list_path = '/content/drive/MyDrive/NLP_LSS/distinctiveness_indicator/roberta-base/unprocessed/bootstrap/auc_list_' + curr_time + '.pickle'\n",
        "prec_list_path = '/content/drive/MyDrive/NLP_LSS/distinctiveness_indicator/roberta-base/unprocessed/bootstrap/prec_list_' + curr_time + '.pickle'\n",
        "recall_list_path = '/content/drive/MyDrive/NLP_LSS/distinctiveness_indicator/roberta-base/unprocessed/bootstrap/recall_list_' + curr_time + '.pickle'\n",
        "f1_list_path = '/content/drive/MyDrive/NLP_LSS/distinctiveness_indicator/roberta-base/unprocessed/bootstrap/f1_list_' + curr_time + '.pickle'\n",
        "results_path = '/content/drive/MyDrive/NLP_LSS/distinctiveness_indicator/roberta-base/unprocessed/bootstrap/df_bootstrap_results.csv'\n",
        "summary_stats_path = '/content/drive/MyDrive/NLP_LSS/distinctiveness_indicator/roberta-base/unprocessed/bootstrap/summary_stats.csv'\n",
        "\n"
      ],
      "metadata": {
        "id": "yQf0qz7r4-AX"
      },
      "execution_count": null,
      "outputs": []
    },
    {
      "cell_type": "code",
      "source": [
        "def batching(np_array, max_idx, batch_size):\n",
        "    np_array = np_array[:max_idx]\n",
        "    np_array = np_array.reshape(-1, batch_size)\n",
        "    batched_list = np_array.tolist()\n",
        "    return batched_list\n"
      ],
      "metadata": {
        "id": "0DoXDTJ49bv0"
      },
      "execution_count": null,
      "outputs": []
    },
    {
      "cell_type": "code",
      "source": [
        "# Temperature Scaling\n",
        "def T_scaling(logits, args):\n",
        "    temperature = args.get('temperature', None)\n",
        "    return torch.div(logits, temperature)\n"
      ],
      "metadata": {
        "id": "hnqOAVoF92Oj"
      },
      "execution_count": null,
      "outputs": []
    },
    {
      "cell_type": "code",
      "source": [
        "# Function for predicting y\n",
        "def bert_pred(loaded_model, X, y, th=0.5, temp=TEMP):\n",
        "    predictions, targets = [], []\n",
        "    pred_prob = []\n",
        "    loaded_model.eval()\n",
        "    with torch.no_grad():\n",
        "        for text, labels in tqdm(zip(X, y), total=len(X)):\n",
        "            try:\n",
        "                model_inputs = tokenizer(text, return_tensors=\"pt\", padding=True, truncation=True)\n",
        "                model_inputs = {k:v.to(device) for k,v in model_inputs.items()}\n",
        "                output = loaded_model(**model_inputs)\n",
        "                logits = output[0]\n",
        "                if temp is not None:\n",
        "                    logits = T_scaling(logits, {'temperature':temp})\n",
        "                probs = torch.sigmoid(logits)\n",
        "                pred_prob.extend(probs[:,1].tolist())\n",
        "                if th==0.5:\n",
        "                    # prediction is the argmax of the logits\n",
        "                    predictions.extend(logits.argmax(dim=1).tolist())\n",
        "                else:\n",
        "                    predictions.extend(((probs[:,1]>=th)*1).tolist())\n",
        "                targets.extend(labels)\n",
        "            except:\n",
        "                print(\"Unable to process: \", text)\n",
        "                continue\n",
        "    return targets, pred_prob, predictions\n"
      ],
      "metadata": {
        "id": "Awrwo5mE94Gl"
      },
      "execution_count": null,
      "outputs": []
    },
    {
      "cell_type": "code",
      "source": [
        "# Function to evaluate predictions - classification report\n",
        "def classification_metrics(targets, predictions, pred_prob):\n",
        "    accuracy = metrics.accuracy_score(targets, predictions)\n",
        "    auc_score = roc_auc_score(targets, pred_prob)\n",
        "    cls_report = metrics.classification_report(targets, predictions, output_dict=True)\n",
        "    precision = cls_report['weighted avg']['precision']\n",
        "    recall = cls_report['weighted avg']['recall']\n",
        "    f1 = cls_report['weighted avg']['f1-score']\n",
        "    return accuracy, auc_score, precision, recall, f1"
      ],
      "metadata": {
        "id": "xor120mk98CJ"
      },
      "execution_count": null,
      "outputs": []
    },
    {
      "cell_type": "code",
      "source": [
        "# Function to evaluate AUC ROC scores\n",
        "def auc_roc(y_true, y_score):\n",
        "    fpr, tpr, thresholds = roc_curve(y_true, y_score)\n",
        "    auc = roc_auc_score(y_true, y_score)\n",
        "    return auc, fpr, tpr"
      ],
      "metadata": {
        "id": "1Tqh0gi997P0"
      },
      "execution_count": null,
      "outputs": []
    },
    {
      "cell_type": "code",
      "source": [
        "def get_Xy(df, x_col='bert_input_unprocessed', y_col='distinct_ind'):\n",
        "  # X_test\n",
        "  X_test = np.array(df[x_col])\n",
        "  # y_test\n",
        "  y_test = np.array(df[y_col])\n",
        "\n",
        "  batch_size = 16\n",
        "  # Batching\n",
        "  test_max_idx = batch_size * (len(X_test)//batch_size)\n",
        "  X_test = batching(X_test, test_max_idx, batch_size=16)\n",
        "  y_test = batching(y_test, test_max_idx, batch_size=16)\n",
        "\n",
        "  return X_test, y_test"
      ],
      "metadata": {
        "id": "EJwcVl4F-LOn"
      },
      "execution_count": null,
      "outputs": []
    },
    {
      "cell_type": "code",
      "source": [
        "def bootstrap(nrounds, data_path=data_path, model_path=model_path):\n",
        "  # Read data\n",
        "  df = pd.read_pickle(data_path)\n",
        "  df['filing_dt'] = pd.to_datetime(df['filing_dt'])\n",
        "\n",
        "  # Divide data into train, test and validation\n",
        "  df_train = df[(df['filing_dt']>=pd.to_datetime('2012-01-01')) & (df['filing_dt']<=pd.to_datetime('2017-12-31'))]\n",
        "  df_val = df[(df['filing_dt']>=pd.to_datetime('2018-01-01')) & (df['filing_dt']<=pd.to_datetime('2018-12-31'))]\n",
        "  df_test = df[(df['filing_dt']>=pd.to_datetime('2019-01-01')) & (df['filing_dt']<=pd.to_datetime('2019-12-31'))]\n",
        "  print(\"Train data shape: \", df_train.shape)\n",
        "  print(\"Validation data shape: \", df_val.shape)\n",
        "  print(\"Test data shape: \", df_test.shape)\n",
        "\n",
        "  acc_list = []\n",
        "  auc_list = []\n",
        "  prec_list = []\n",
        "  recall_list = []\n",
        "  f1_list = []\n",
        "  model = torch.load(model_path)\n",
        "\n",
        "  for i in range(nrounds):\n",
        "    torch.cuda.empty_cache()\n",
        "    # Sample with replacements\n",
        "    df_test = df_test.sample(frac=1, replace=True)\n",
        "    X_test, y_test = get_Xy(df_test)\n",
        "    labels, pred_prob, predictions = bert_pred(model, X_test, y_test)\n",
        "    acc, auc, prec, recall, f1 = classification_metrics(labels, predictions, pred_prob)\n",
        "    print(\"Round {round}: accuracy {accr}\".format(round=i+1, accr=acc))\n",
        "    acc_list.append(acc)\n",
        "    auc_list.append(auc)\n",
        "    prec_list.append(prec)\n",
        "    recall_list.append(recall)\n",
        "    f1_list.append(f1)\n",
        "\n",
        "  return acc_list, auc_list, prec_list, recall_list, f1_list"
      ],
      "metadata": {
        "id": "ODZMsXES-NEH"
      },
      "execution_count": null,
      "outputs": []
    },
    {
      "cell_type": "code",
      "source": [
        "acc_list, auc_list, prec_list, recall_list, f1_list = bootstrap(nrounds=30)\n",
        "\n",
        "# Dump\n",
        "with open(acc_list_path, 'wb') as handle:\n",
        "  pickle.dump(acc_list, handle)\n",
        "\n",
        "with open(auc_list_path, 'wb') as handle:\n",
        "  pickle.dump(auc_list, handle)\n",
        "\n",
        "with open(prec_list_path, 'wb') as handle:\n",
        "  pickle.dump(prec_list, handle)\n",
        "\n",
        "with open(recall_list_path, 'wb') as handle:\n",
        "  pickle.dump(recall_list, handle)\n",
        "\n",
        "with open(f1_list_path, 'wb') as handle:\n",
        "  pickle.dump(f1_list, handle)"
      ],
      "metadata": {
        "colab": {
          "base_uri": "https://localhost:8080/"
        },
        "id": "B0pnUSdH-PAS",
        "outputId": "9acf4718-8a0d-4f40-9ab5-f143b74c71b9"
      },
      "execution_count": null,
      "outputs": [
        {
          "metadata": {
            "tags": null
          },
          "name": "stdout",
          "output_type": "stream",
          "text": [
            "Train data shape:  (1001779, 22)\n",
            "Validation data shape:  (234752, 22)\n",
            "Test data shape:  (264827, 22)\n"
          ]
        },
        {
          "metadata": {
            "tags": null
          },
          "name": "stderr",
          "output_type": "stream",
          "text": [
            "100%|██████████| 16551/16551 [29:15<00:00,  9.43it/s]\n"
          ]
        },
        {
          "metadata": {
            "tags": null
          },
          "name": "stdout",
          "output_type": "stream",
          "text": [
            "Round 1: accuracy 0.8633428493746601\n"
          ]
        },
        {
          "metadata": {
            "tags": null
          },
          "name": "stderr",
          "output_type": "stream",
          "text": [
            "100%|██████████| 16551/16551 [29:09<00:00,  9.46it/s]\n"
          ]
        },
        {
          "metadata": {
            "tags": null
          },
          "name": "stdout",
          "output_type": "stream",
          "text": [
            "Round 2: accuracy 0.8632899824784\n"
          ]
        },
        {
          "metadata": {
            "tags": null
          },
          "name": "stderr",
          "output_type": "stream",
          "text": [
            "100%|██████████| 16551/16551 [29:20<00:00,  9.40it/s]\n"
          ]
        },
        {
          "metadata": {
            "tags": null
          },
          "name": "stdout",
          "output_type": "stream",
          "text": [
            "Round 3: accuracy 0.862221315932572\n"
          ]
        },
        {
          "metadata": {
            "tags": null
          },
          "name": "stderr",
          "output_type": "stream",
          "text": [
            "100%|██████████| 16551/16551 [29:25<00:00,  9.37it/s]\n"
          ]
        },
        {
          "metadata": {
            "tags": null
          },
          "name": "stdout",
          "output_type": "stream",
          "text": [
            "Round 4: accuracy 0.8613074738686484\n"
          ]
        },
        {
          "metadata": {
            "tags": null
          },
          "name": "stderr",
          "output_type": "stream",
          "text": [
            "100%|██████████| 16551/16551 [29:22<00:00,  9.39it/s]\n"
          ]
        },
        {
          "metadata": {
            "tags": null
          },
          "name": "stdout",
          "output_type": "stream",
          "text": [
            "Round 5: accuracy 0.8611488731798683\n"
          ]
        },
        {
          "metadata": {
            "tags": null
          },
          "name": "stderr",
          "output_type": "stream",
          "text": [
            "100%|██████████| 16551/16551 [29:15<00:00,  9.43it/s]\n"
          ]
        },
        {
          "metadata": {
            "tags": null
          },
          "name": "stdout",
          "output_type": "stream",
          "text": [
            "Round 6: accuracy 0.8615831369705758\n"
          ]
        },
        {
          "metadata": {
            "tags": null
          },
          "name": "stderr",
          "output_type": "stream",
          "text": [
            "100%|██████████| 16551/16551 [29:21<00:00,  9.40it/s]\n"
          ]
        },
        {
          "metadata": {
            "tags": null
          },
          "name": "stdout",
          "output_type": "stream",
          "text": [
            "Round 7: accuracy 0.8612168449036312\n"
          ]
        },
        {
          "metadata": {
            "tags": null
          },
          "name": "stderr",
          "output_type": "stream",
          "text": [
            "100%|██████████| 16551/16551 [29:20<00:00,  9.40it/s]\n"
          ]
        },
        {
          "metadata": {
            "tags": null
          },
          "name": "stdout",
          "output_type": "stream",
          "text": [
            "Round 8: accuracy 0.8615869131774515\n"
          ]
        },
        {
          "metadata": {
            "tags": null
          },
          "name": "stderr",
          "output_type": "stream",
          "text": [
            "100%|██████████| 16551/16551 [29:28<00:00,  9.36it/s]\n"
          ]
        },
        {
          "metadata": {
            "tags": null
          },
          "name": "stdout",
          "output_type": "stream",
          "text": [
            "Round 9: accuracy 0.8614811793849314\n"
          ]
        },
        {
          "metadata": {
            "tags": null
          },
          "name": "stderr",
          "output_type": "stream",
          "text": [
            "100%|██████████| 16551/16551 [29:29<00:00,  9.35it/s]\n"
          ]
        },
        {
          "metadata": {
            "tags": null
          },
          "name": "stdout",
          "output_type": "stream",
          "text": [
            "Round 10: accuracy 0.8605560087003806\n"
          ]
        },
        {
          "metadata": {
            "tags": null
          },
          "name": "stderr",
          "output_type": "stream",
          "text": [
            "100%|██████████| 16551/16551 [29:34<00:00,  9.33it/s]\n"
          ]
        },
        {
          "metadata": {
            "tags": null
          },
          "name": "stdout",
          "output_type": "stream",
          "text": [
            "Round 11: accuracy 0.8606202042172678\n"
          ]
        },
        {
          "metadata": {
            "tags": null
          },
          "name": "stderr",
          "output_type": "stream",
          "text": [
            "100%|██████████| 16551/16551 [29:27<00:00,  9.36it/s]\n"
          ]
        },
        {
          "metadata": {
            "tags": null
          },
          "name": "stdout",
          "output_type": "stream",
          "text": [
            "Round 12: accuracy 0.8616850945562202\n"
          ]
        },
        {
          "output_type": "stream",
          "name": "stderr",
          "text": [
            "100%|██████████| 16551/16551 [29:29<00:00,  9.36it/s]\n"
          ]
        },
        {
          "output_type": "stream",
          "name": "stdout",
          "text": [
            "Round 13: accuracy 0.8614396411092985\n"
          ]
        },
        {
          "output_type": "stream",
          "name": "stderr",
          "text": [
            "100%|██████████| 16551/16551 [29:34<00:00,  9.33it/s]\n"
          ]
        },
        {
          "output_type": "stream",
          "name": "stdout",
          "text": [
            "Round 14: accuracy 0.861726632831853\n"
          ]
        },
        {
          "output_type": "stream",
          "name": "stderr",
          "text": [
            "100%|██████████| 16551/16551 [29:31<00:00,  9.34it/s]\n"
          ]
        },
        {
          "output_type": "stream",
          "name": "stdout",
          "text": [
            "Round 15: accuracy 0.8615302700743157\n"
          ]
        },
        {
          "output_type": "stream",
          "name": "stderr",
          "text": [
            "100%|██████████| 16551/16551 [29:32<00:00,  9.34it/s]\n"
          ]
        },
        {
          "output_type": "stream",
          "name": "stdout",
          "text": [
            "Round 16: accuracy 0.8611148873179868\n"
          ]
        },
        {
          "output_type": "stream",
          "name": "stderr",
          "text": [
            "100%|██████████| 16551/16551 [29:35<00:00,  9.32it/s]\n"
          ]
        },
        {
          "output_type": "stream",
          "name": "stdout",
          "text": [
            "Round 17: accuracy 0.8605371276660021\n"
          ]
        },
        {
          "output_type": "stream",
          "name": "stderr",
          "text": [
            "100%|██████████| 16551/16551 [29:39<00:00,  9.30it/s]\n"
          ]
        },
        {
          "output_type": "stream",
          "name": "stdout",
          "text": [
            "Round 18: accuracy 0.8593325176726482\n"
          ]
        },
        {
          "output_type": "stream",
          "name": "stderr",
          "text": [
            "100%|██████████| 16551/16551 [29:36<00:00,  9.32it/s]\n"
          ]
        },
        {
          "output_type": "stream",
          "name": "stdout",
          "text": [
            "Round 19: accuracy 0.860136849737176\n"
          ]
        },
        {
          "output_type": "stream",
          "name": "stderr",
          "text": [
            "100%|██████████| 16551/16551 [29:36<00:00,  9.32it/s]\n"
          ]
        },
        {
          "output_type": "stream",
          "name": "stdout",
          "text": [
            "Round 20: accuracy 0.8598083197389886\n"
          ]
        },
        {
          "output_type": "stream",
          "name": "stderr",
          "text": [
            "100%|██████████| 16551/16551 [29:50<00:00,  9.24it/s]\n"
          ]
        },
        {
          "output_type": "stream",
          "name": "stdout",
          "text": [
            "Round 21: accuracy 0.8590568545707208\n"
          ]
        },
        {
          "output_type": "stream",
          "name": "stderr",
          "text": [
            "100%|██████████| 16551/16551 [29:51<00:00,  9.24it/s]\n"
          ]
        },
        {
          "output_type": "stream",
          "name": "stdout",
          "text": [
            "Round 22: accuracy 0.8584677662981088\n"
          ]
        },
        {
          "output_type": "stream",
          "name": "stderr",
          "text": [
            "100%|██████████| 16551/16551 [29:51<00:00,  9.24it/s]\n"
          ]
        },
        {
          "output_type": "stream",
          "name": "stdout",
          "text": [
            "Round 23: accuracy 0.8584148994018488\n"
          ]
        },
        {
          "output_type": "stream",
          "name": "stderr",
          "text": [
            "100%|██████████| 16551/16551 [29:48<00:00,  9.25it/s]\n"
          ]
        },
        {
          "output_type": "stream",
          "name": "stdout",
          "text": [
            "Round 24: accuracy 0.8580599359555314\n"
          ]
        },
        {
          "output_type": "stream",
          "name": "stderr",
          "text": [
            "100%|██████████| 16551/16551 [29:49<00:00,  9.25it/s]\n"
          ]
        },
        {
          "output_type": "stream",
          "name": "stdout",
          "text": [
            "Round 25: accuracy 0.857905111473627\n"
          ]
        },
        {
          "output_type": "stream",
          "name": "stderr",
          "text": [
            "100%|██████████| 16551/16551 [29:53<00:00,  9.23it/s]\n"
          ]
        },
        {
          "output_type": "stream",
          "name": "stdout",
          "text": [
            "Round 26: accuracy 0.8577465107848469\n"
          ]
        },
        {
          "output_type": "stream",
          "name": "stderr",
          "text": [
            "100%|██████████| 16551/16551 [29:54<00:00,  9.23it/s]\n"
          ]
        },
        {
          "output_type": "stream",
          "name": "stdout",
          "text": [
            "Round 27: accuracy 0.8571536463053592\n"
          ]
        },
        {
          "output_type": "stream",
          "name": "stderr",
          "text": [
            "100%|██████████| 16551/16551 [29:52<00:00,  9.24it/s]\n"
          ]
        },
        {
          "output_type": "stream",
          "name": "stdout",
          "text": [
            "Round 28: accuracy 0.8564663766539786\n"
          ]
        },
        {
          "output_type": "stream",
          "name": "stderr",
          "text": [
            "100%|██████████| 16551/16551 [29:51<00:00,  9.24it/s]\n"
          ]
        },
        {
          "output_type": "stream",
          "name": "stdout",
          "text": [
            "Round 29: accuracy 0.8563455380339556\n"
          ]
        },
        {
          "output_type": "stream",
          "name": "stderr",
          "text": [
            "100%|██████████| 16551/16551 [29:56<00:00,  9.21it/s]\n"
          ]
        },
        {
          "output_type": "stream",
          "name": "stdout",
          "text": [
            "Round 30: accuracy 0.8573953235454052\n"
          ]
        }
      ]
    },
    {
      "cell_type": "code",
      "source": [
        "from google.colab import runtime\n",
        "runtime.unassign()"
      ],
      "metadata": {
        "id": "EmyR3MmHAIwJ"
      },
      "execution_count": null,
      "outputs": []
    },
    {
      "cell_type": "markdown",
      "source": [
        "### Load all accuracies, precision, recall, F1 and AUC to create a violin plot  "
      ],
      "metadata": {
        "id": "0fgLoz291VwK"
      }
    },
    {
      "cell_type": "code",
      "source": [
        "import os\n",
        "import matplotlib.pyplot as plt\n",
        "import pickle\n",
        "import pandas as pd\n",
        "import seaborn as sns\n",
        "plt.rcParams[\"figure.dpi\"] = 80"
      ],
      "metadata": {
        "id": "xtAiUng2CN_-"
      },
      "execution_count": null,
      "outputs": []
    },
    {
      "cell_type": "code",
      "source": [
        "## Input paths\n",
        "data_path = '/content/drive/MyDrive/NLP_LSS/distinctiveness_indicator/roberta-base/unprocessed/bootstrap/'\n",
        "results_path = '/content/drive/MyDrive/NLP_LSS/distinctiveness_indicator/roberta-base/unprocessed/bootstrap/df_bootstrap_results.csv'\n",
        "\n",
        "def get_paths(str_match, folder_path=data_path):\n",
        "  path_list = []\n",
        "  for root, dirs, files in os.walk(folder_path):\n",
        "    for file in files:\n",
        "      if str_match in file:\n",
        "        path_list.append((os.path.join(root, file)))\n",
        "  return path_list\n",
        "\n",
        "def concat_data(paths, n=30):\n",
        "  all_data = []\n",
        "  for path in paths:\n",
        "    with open(path, 'rb') as handle:\n",
        "      curr_data = pickle.load(handle)\n",
        "    all_data += curr_data\n",
        "  assert(len(all_data)==n)\n",
        "  return all_data"
      ],
      "metadata": {
        "id": "jiZk8veKBrJ5"
      },
      "execution_count": null,
      "outputs": []
    },
    {
      "cell_type": "code",
      "source": [
        "acc_paths = get_paths(\"accuracy_list_2024\")\n",
        "prec_paths = get_paths(\"prec_list_2024\")\n",
        "recall_paths = get_paths(\"recall_list_2024\")\n",
        "f1_paths = get_paths(\"f1_list_2024\")\n",
        "auc_paths = get_paths(\"auc_list_2024\")\n",
        "\n",
        "acc_list = concat_data(acc_paths)\n",
        "prec_list = concat_data(prec_paths)\n",
        "recall_list = concat_data(recall_paths)\n",
        "f1_list = concat_data(f1_paths)\n",
        "auc_list = concat_data(auc_paths)\n",
        "\n",
        "df_bootstrap_results = pd.DataFrame({'Accuracy':acc_list, 'AUC':auc_list, 'Precision':prec_list,\n",
        "                        'Recall':recall_list, 'F1':f1_list})\n",
        "df_bootstrap_results.to_csv(results_path, index=False)\n",
        "\n",
        "sns.violinplot(data=df_bootstrap_results[['Accuracy','Precision','Recall','F1']])"
      ],
      "metadata": {
        "colab": {
          "base_uri": "https://localhost:8080/",
          "height": 363
        },
        "id": "cwOSWQjw1hIm",
        "outputId": "18b81a43-e9b4-45d6-d159-08da68736309"
      },
      "execution_count": null,
      "outputs": [
        {
          "output_type": "execute_result",
          "data": {
            "text/plain": [
              "<Axes: >"
            ]
          },
          "metadata": {},
          "execution_count": 15
        },
        {
          "output_type": "display_data",
          "data": {
            "text/plain": [
              "<Figure size 512x384 with 1 Axes>"
            ],
            "image/png": "[encoded data removed]"
          },
          "metadata": {}
        }
      ]
    },
    {
      "cell_type": "code",
      "source": [
        "sns.violinplot(data=df_bootstrap_results[['AUC']])"
      ],
      "metadata": {
        "colab": {
          "base_uri": "https://localhost:8080/",
          "height": 363
        },
        "id": "Jiq_nAh81piJ",
        "outputId": "43ab728c-bbb1-4e75-e3a6-63fea01f3346"
      },
      "execution_count": null,
      "outputs": [
        {
          "output_type": "execute_result",
          "data": {
            "text/plain": [
              "<Axes: >"
            ]
          },
          "metadata": {},
          "execution_count": 16
        },
        {
          "output_type": "display_data",
          "data": {
            "text/plain": [
              "<Figure size 512x384 with 1 Axes>"
            ],
            "image/png": "[encoded data removed]"
          },
          "metadata": {}
        }
      ]
    },
    {
      "cell_type": "code",
      "source": [
        "import matplotlib.pyplot as plt\n",
        "import statistics\n",
        "from math import sqrt\n",
        "\n",
        "\n",
        "def plot_confidence_interval(x, values, z=1.96, color='#2187bb', horizontal_line_width=0.25):\n",
        "    mean = statistics.mean(values)\n",
        "    stdev = statistics.stdev(values)\n",
        "    confidence_interval = z * stdev / sqrt(len(values))\n",
        "\n",
        "    left = x - horizontal_line_width / 2\n",
        "    top = mean - confidence_interval\n",
        "    right = x + horizontal_line_width / 2\n",
        "    bottom = mean + confidence_interval\n",
        "    plt.plot([x, x], [top, bottom], color=color)\n",
        "    plt.plot([left, right], [top, top], color=color)\n",
        "    plt.plot([left, right], [bottom, bottom], color=color)\n",
        "    plt.plot(x, mean, 'o', color='#f44336')\n",
        "\n",
        "    return mean, confidence_interval\n",
        "\n",
        "\n",
        "plt.xticks([1, 2, 3, 4, 5], ['Acc', 'AUC', 'Prec', 'Recall', 'F1'])\n",
        "plt.title('Confidence Interval')\n",
        "plot_confidence_interval(1, df_bootstrap_results['Accuracy'].tolist())\n",
        "#plot_confidence_interval(2, df_bootstrap_results['AUC'].tolist())\n",
        "plot_confidence_interval(3, df_bootstrap_results['Precision'].tolist())\n",
        "plot_confidence_interval(4, df_bootstrap_results['Recall'].tolist())\n",
        "plot_confidence_interval(5, df_bootstrap_results['F1'].tolist())\n",
        "\n",
        "plt.show()"
      ],
      "metadata": {
        "colab": {
          "base_uri": "https://localhost:8080/",
          "height": 363
        },
        "id": "StgzUfK02n-X",
        "outputId": "00319f36-dda4-4dc8-c494-ea1ee04970ef"
      },
      "execution_count": null,
      "outputs": [
        {
          "output_type": "display_data",
          "data": {
            "text/plain": [
              "<Figure size 512x384 with 1 Axes>"
            ],
            "image/png": "[encoded data removed]"
          },
          "metadata": {}
        }
      ]
    },
    {
      "cell_type": "code",
      "source": [
        "import numpy as np\n",
        "np.round(df_bootstrap_results.quantile([0, 0.025, 0.25, 0.5, 0.75, 0.975, 1]),4).to_csv('summary_stats.csv')"
      ],
      "metadata": {
        "id": "DeMdMU3_2rAN"
      },
      "execution_count": null,
      "outputs": []
    },
    {
      "cell_type": "code",
      "source": [],
      "metadata": {
        "id": "i0begcN72xSg"
      },
      "execution_count": null,
      "outputs": []
    }
  ]
}